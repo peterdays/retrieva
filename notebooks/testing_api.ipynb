{
 "cells": [
  {
   "cell_type": "code",
   "execution_count": 4,
   "id": "283127c6-bb69-444e-bcbf-010c54b594bb",
   "metadata": {
    "execution": {
     "iopub.execute_input": "2024-04-22T21:56:34.528799Z",
     "iopub.status.busy": "2024-04-22T21:56:34.527314Z",
     "iopub.status.idle": "2024-04-22T21:56:39.364784Z",
     "shell.execute_reply": "2024-04-22T21:56:39.363955Z",
     "shell.execute_reply.started": "2024-04-22T21:56:34.528690Z"
    }
   },
   "outputs": [
    {
     "name": "stdout",
     "output_type": "stream",
     "text": [
      "To solve a RL problem using Amazon SageMaker RL, you can follow these steps:\n",
      "\n",
      "1. Formulate the RL problem by defining the objective, environment, state, action, and reward components of the Markov Decision Process.\n",
      "2. Define the RL environment, which can be the real world or a simulation.\n",
      "3. Define the presets to configure the RL training jobs and set hyperparameters for the RL algorithms.\n",
      "4. Write the training code in Python and pass it to a SageMaker training job.\n",
      "5. Train the RL model using the SageMaker `RLEstimator` in the Amazon SageMaker Python SDK.\n",
      "\n",
      "For more detailed information and code examples, you can refer to the sample notebooks at https://github.com/awslabs/amazon-sagemaker-examples/tree/master/reinforcement-learning.\n",
      "\n",
      "For hyperparameter tuning with Amazon SageMaker RL, you can run a hyperparameter tuning job to optimize hyperparameters. The Roboschool example in the sample notebooks in the SageMaker examples repository demonstrates how to do this with RL Coach.\n",
      "\n",
      "For further reading, you can refer to the documentation at the following file paths:\n",
      "- sagemaker-rl-workflow.md\n",
      "- sagemaker-rl-tuning.md\n"
     ]
    }
   ],
   "source": [
    "import httpx\n",
    "from IPython.display import clear_output\n",
    "\n",
    "url = 'http://127.0.0.1:3333/query'\n",
    "\n",
    "query = \"how can I solve a RL aws problem with sagemaker?\"\n",
    "\n",
    "params = {\"query\": query}\n",
    "\n",
    "with httpx.stream('GET', url, params=params) as r:\n",
    "    sentence = \"\"\n",
    "    for chunk in r.iter_raw():  # or, for line in r.iter_lines():\n",
    "        sentence += chunk.decode(\"utf-8\")\n",
    "        clear_output()\n",
    "        print(sentence)"
   ]
  },
  {
   "cell_type": "code",
   "execution_count": null,
   "id": "7add1eec-1c06-416a-9cf0-3ac3f6aa0f59",
   "metadata": {},
   "outputs": [],
   "source": []
  }
 ],
 "metadata": {
  "kernelspec": {
   "display_name": "Python 3 (ipykernel)",
   "language": "python",
   "name": "python3"
  },
  "language_info": {
   "codemirror_mode": {
    "name": "ipython",
    "version": 3
   },
   "file_extension": ".py",
   "mimetype": "text/x-python",
   "name": "python",
   "nbconvert_exporter": "python",
   "pygments_lexer": "ipython3",
   "version": "3.10.14"
  }
 },
 "nbformat": 4,
 "nbformat_minor": 5
}
