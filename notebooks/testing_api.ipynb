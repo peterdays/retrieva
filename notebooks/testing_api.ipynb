{
 "cells": [
  {
   "cell_type": "code",
   "execution_count": 14,
   "id": "283127c6-bb69-444e-bcbf-010c54b594bb",
   "metadata": {
    "execution": {
     "iopub.execute_input": "2024-04-20T14:36:54.032027Z",
     "iopub.status.busy": "2024-04-20T14:36:54.030614Z",
     "iopub.status.idle": "2024-04-20T14:36:59.113224Z",
     "shell.execute_reply": "2024-04-20T14:36:59.112066Z",
     "shell.execute_reply.started": "2024-04-20T14:36:54.031971Z"
    }
   },
   "outputs": [
    {
     "name": "stdout",
     "output_type": "stream",
     "text": [
      "b'this is a test query!!_0'\n",
      "b'this is a test query!!_1'\n",
      "b'this is a test query!!_2'\n",
      "b'this is a test query!!_3'\n",
      "b'this is a test query!!_4'\n",
      "b'this is a test query!!_5'\n",
      "b'this is a test query!!_6'\n",
      "b'this is a test query!!_7'\n",
      "b'this is a test query!!_8'\n",
      "b'this is a test query!!_9'\n"
     ]
    }
   ],
   "source": [
    "import httpx\n",
    "\n",
    "url = 'http://127.0.0.1:3333/'\n",
    "\n",
    "query = \"this is a test query!!\"\n",
    "\n",
    "with httpx.stream('GET', url, params={\"query\": query}) as r:\n",
    "    for chunk in r.iter_raw():  # or, for line in r.iter_lines():\n",
    "        print(chunk)"
   ]
  },
  {
   "cell_type": "code",
   "execution_count": null,
   "id": "847931d8-bf6b-47a8-876d-45b1232a241a",
   "metadata": {},
   "outputs": [],
   "source": []
  }
 ],
 "metadata": {
  "kernelspec": {
   "display_name": "Python 3 (ipykernel)",
   "language": "python",
   "name": "python3"
  },
  "language_info": {
   "codemirror_mode": {
    "name": "ipython",
    "version": 3
   },
   "file_extension": ".py",
   "mimetype": "text/x-python",
   "name": "python",
   "nbconvert_exporter": "python",
   "pygments_lexer": "ipython3",
   "version": "3.10.14"
  }
 },
 "nbformat": 4,
 "nbformat_minor": 5
}
