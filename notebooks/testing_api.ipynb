{
 "cells": [
  {
   "cell_type": "code",
   "execution_count": 6,
   "id": "283127c6-bb69-444e-bcbf-010c54b594bb",
   "metadata": {
    "execution": {
     "iopub.execute_input": "2024-04-21T15:20:54.009796Z",
     "iopub.status.busy": "2024-04-21T15:20:54.009541Z",
     "iopub.status.idle": "2024-04-21T15:20:58.125402Z",
     "shell.execute_reply": "2024-04-21T15:20:58.124773Z",
     "shell.execute_reply.started": "2024-04-21T15:20:54.009774Z"
    }
   },
   "outputs": [
    {
     "name": "stdout",
     "output_type": "stream",
     "text": [
      "To solve a RL problem using Amazon SageMaker, you can follow the steps outlined in the \"Sample RL Workflow Using Amazon SageMaker RL\" documentation located at artifacts/sagemaker_documentation_small/sagemaker-rl-workflow.md. This documentation provides a detailed example of formulating the RL problem, defining the RL environment, setting presets, writing training code, and training the RL model using Amazon SageMaker RL. Additionally, for hyperparameter tuning with Amazon SageMaker RL, you can refer to the \"Hyperparameter Tuning with Amazon SageMaker RL\" documentation located at artifacts/sagemaker_documentation_small/sagemaker-rl-tuning.md. These resources will guide you through the process of solving RL problems using Amazon SageMaker. I recommend exploring other related documents in the index such as \"Amazon SageMaker Developer Guide\" and \"Amazon SageMaker RL Developer Guide\" for further insights and best practices in using Amazon SageMaker for reinforcement learning tasks.\n"
     ]
    }
   ],
   "source": [
    "import httpx\n",
    "from IPython.display import clear_output\n",
    "\n",
    "url = 'http://127.0.0.1:3333/'\n",
    "\n",
    "query = \"how can I solve a RL aws problem with sagemaker?\"\n",
    "\n",
    "with httpx.stream('GET', url, params={\"query\": query}) as r:\n",
    "    sentence = \"\"\n",
    "    for chunk in r.iter_raw():  # or, for line in r.iter_lines():\n",
    "        sentence += chunk.decode(\"utf-8\")\n",
    "        clear_output()\n",
    "        print(sentence)"
   ]
  },
  {
   "cell_type": "code",
   "execution_count": null,
   "id": "847931d8-bf6b-47a8-876d-45b1232a241a",
   "metadata": {},
   "outputs": [],
   "source": []
  }
 ],
 "metadata": {
  "kernelspec": {
   "display_name": "Python 3 (ipykernel)",
   "language": "python",
   "name": "python3"
  },
  "language_info": {
   "codemirror_mode": {
    "name": "ipython",
    "version": 3
   },
   "file_extension": ".py",
   "mimetype": "text/x-python",
   "name": "python",
   "nbconvert_exporter": "python",
   "pygments_lexer": "ipython3",
   "version": "3.10.14"
  }
 },
 "nbformat": 4,
 "nbformat_minor": 5
}
