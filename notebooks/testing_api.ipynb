{
 "cells": [
  {
   "cell_type": "code",
   "execution_count": 3,
   "id": "283127c6-bb69-444e-bcbf-010c54b594bb",
   "metadata": {
    "execution": {
     "iopub.execute_input": "2024-04-20T16:26:55.564955Z",
     "iopub.status.busy": "2024-04-20T16:26:55.563669Z",
     "iopub.status.idle": "2024-04-20T16:27:03.649795Z",
     "shell.execute_reply": "2024-04-20T16:27:03.648205Z",
     "shell.execute_reply.started": "2024-04-20T16:26:55.564807Z"
    }
   },
   "outputs": [
    {
     "name": "stdout",
     "output_type": "stream",
     "text": [
      "SageMaker is a software agent that runs on edge devices, providing model management for edge devices. It allows users to package and use Amazon SageMaker Neo-compiled models directly on Greengrass core devices. SageMaker Edge Manager also enables sampling of model input and output data from core devices for monitoring and analysis in the AWS Cloud.\n"
     ]
    }
   ],
   "source": [
    "import httpx\n",
    "from IPython.display import clear_output\n",
    "\n",
    "url = 'http://127.0.0.1:3333/'\n",
    "\n",
    "query = \"what is sagemaker??\"\n",
    "\n",
    "with httpx.stream('GET', url, params={\"query\": query}) as r:\n",
    "    sentence = \"\"\n",
    "    for chunk in r.iter_raw():  # or, for line in r.iter_lines():\n",
    "        sentence += chunk.decode(\"utf-8\")\n",
    "        clear_output()\n",
    "        print(sentence)"
   ]
  },
  {
   "cell_type": "code",
   "execution_count": null,
   "id": "847931d8-bf6b-47a8-876d-45b1232a241a",
   "metadata": {},
   "outputs": [],
   "source": []
  }
 ],
 "metadata": {
  "kernelspec": {
   "display_name": "Python 3 (ipykernel)",
   "language": "python",
   "name": "python3"
  },
  "language_info": {
   "codemirror_mode": {
    "name": "ipython",
    "version": 3
   },
   "file_extension": ".py",
   "mimetype": "text/x-python",
   "name": "python",
   "nbconvert_exporter": "python",
   "pygments_lexer": "ipython3",
   "version": "3.10.14"
  }
 },
 "nbformat": 4,
 "nbformat_minor": 5
}
