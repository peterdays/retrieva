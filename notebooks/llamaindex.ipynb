{
 "cells": [
  {
   "cell_type": "code",
   "execution_count": 1,
   "id": "98faa1fa-bf33-4b76-9122-d0b7119d525c",
   "metadata": {
    "execution": {
     "iopub.execute_input": "2024-04-20T13:49:18.971955Z",
     "iopub.status.busy": "2024-04-20T13:49:18.971586Z",
     "iopub.status.idle": "2024-04-20T13:49:19.004504Z",
     "shell.execute_reply": "2024-04-20T13:49:19.003460Z",
     "shell.execute_reply.started": "2024-04-20T13:49:18.971929Z"
    }
   },
   "outputs": [],
   "source": [
    "%load_ext autoreload\n",
    "%autoreload 2"
   ]
  },
  {
   "cell_type": "code",
   "execution_count": 2,
   "id": "e2905f05-c9e2-44cc-abf1-728bbd40d26e",
   "metadata": {
    "execution": {
     "iopub.execute_input": "2024-04-20T13:49:19.006315Z",
     "iopub.status.busy": "2024-04-20T13:49:19.005903Z",
     "iopub.status.idle": "2024-04-20T13:49:19.519904Z",
     "shell.execute_reply": "2024-04-20T13:49:19.518834Z",
     "shell.execute_reply.started": "2024-04-20T13:49:19.006279Z"
    }
   },
   "outputs": [],
   "source": [
    "from retrieva import ROOT_PATH\n",
    "from retrieva.data import get_file_paths\n",
    "import os\n",
    "import pathlib\n",
    "import re\n",
    "\n",
    "data_path = os.path.join(ROOT_PATH, \"artifacts/sagemaker_documentation_small\")\n",
    "df = get_file_paths(data_path)"
   ]
  },
  {
   "cell_type": "code",
   "execution_count": 3,
   "id": "eb5b7826-3372-41da-8557-d0d3138b6456",
   "metadata": {
    "execution": {
     "iopub.execute_input": "2024-04-20T13:49:19.522468Z",
     "iopub.status.busy": "2024-04-20T13:49:19.522039Z",
     "iopub.status.idle": "2024-04-20T13:49:22.342999Z",
     "shell.execute_reply": "2024-04-20T13:49:22.341343Z",
     "shell.execute_reply.started": "2024-04-20T13:49:19.522442Z"
    },
    "scrolled": true
   },
   "outputs": [
    {
     "name": "stdout",
     "output_type": "stream",
     "text": [
      "Requirement already satisfied: llama-index in /home/peterdays/miniconda3/envs/retrieva/lib/python3.10/site-packages (0.10.30)\n",
      "Requirement already satisfied: llama-index-agent-openai<0.3.0,>=0.1.4 in /home/peterdays/miniconda3/envs/retrieva/lib/python3.10/site-packages (from llama-index) (0.2.2)\n",
      "Requirement already satisfied: llama-index-cli<0.2.0,>=0.1.2 in /home/peterdays/miniconda3/envs/retrieva/lib/python3.10/site-packages (from llama-index) (0.1.12)\n",
      "Requirement already satisfied: llama-index-core<0.11.0,>=0.10.30 in /home/peterdays/miniconda3/envs/retrieva/lib/python3.10/site-packages (from llama-index) (0.10.30)\n",
      "Requirement already satisfied: llama-index-embeddings-openai<0.2.0,>=0.1.5 in /home/peterdays/miniconda3/envs/retrieva/lib/python3.10/site-packages (from llama-index) (0.1.8)\n",
      "Requirement already satisfied: llama-index-indices-managed-llama-cloud<0.2.0,>=0.1.2 in /home/peterdays/miniconda3/envs/retrieva/lib/python3.10/site-packages (from llama-index) (0.1.5)\n",
      "Requirement already satisfied: llama-index-legacy<0.10.0,>=0.9.48 in /home/peterdays/miniconda3/envs/retrieva/lib/python3.10/site-packages (from llama-index) (0.9.48)\n",
      "Requirement already satisfied: llama-index-llms-openai<0.2.0,>=0.1.13 in /home/peterdays/miniconda3/envs/retrieva/lib/python3.10/site-packages (from llama-index) (0.1.16)\n",
      "Requirement already satisfied: llama-index-multi-modal-llms-openai<0.2.0,>=0.1.3 in /home/peterdays/miniconda3/envs/retrieva/lib/python3.10/site-packages (from llama-index) (0.1.5)\n",
      "Requirement already satisfied: llama-index-program-openai<0.2.0,>=0.1.3 in /home/peterdays/miniconda3/envs/retrieva/lib/python3.10/site-packages (from llama-index) (0.1.5)\n",
      "Requirement already satisfied: llama-index-question-gen-openai<0.2.0,>=0.1.2 in /home/peterdays/miniconda3/envs/retrieva/lib/python3.10/site-packages (from llama-index) (0.1.3)\n",
      "Requirement already satisfied: llama-index-readers-file<0.2.0,>=0.1.4 in /home/peterdays/miniconda3/envs/retrieva/lib/python3.10/site-packages (from llama-index) (0.1.19)\n",
      "Requirement already satisfied: llama-index-readers-llama-parse<0.2.0,>=0.1.2 in /home/peterdays/miniconda3/envs/retrieva/lib/python3.10/site-packages (from llama-index) (0.1.4)\n",
      "Requirement already satisfied: openai>=1.14.0 in /home/peterdays/miniconda3/envs/retrieva/lib/python3.10/site-packages (from llama-index-agent-openai<0.3.0,>=0.1.4->llama-index) (1.23.2)\n",
      "Requirement already satisfied: PyYAML>=6.0.1 in /home/peterdays/miniconda3/envs/retrieva/lib/python3.10/site-packages (from llama-index-core<0.11.0,>=0.10.30->llama-index) (6.0.1)\n",
      "Requirement already satisfied: SQLAlchemy>=1.4.49 in /home/peterdays/miniconda3/envs/retrieva/lib/python3.10/site-packages (from SQLAlchemy[asyncio]>=1.4.49->llama-index-core<0.11.0,>=0.10.30->llama-index) (2.0.29)\n",
      "Requirement already satisfied: aiohttp<4.0.0,>=3.8.6 in /home/peterdays/miniconda3/envs/retrieva/lib/python3.10/site-packages (from llama-index-core<0.11.0,>=0.10.30->llama-index) (3.9.5)\n",
      "Requirement already satisfied: dataclasses-json in /home/peterdays/miniconda3/envs/retrieva/lib/python3.10/site-packages (from llama-index-core<0.11.0,>=0.10.30->llama-index) (0.6.4)\n",
      "Requirement already satisfied: deprecated>=1.2.9.3 in /home/peterdays/.local/lib/python3.10/site-packages (from llama-index-core<0.11.0,>=0.10.30->llama-index) (1.2.13)\n",
      "Requirement already satisfied: dirtyjson<2.0.0,>=1.0.8 in /home/peterdays/miniconda3/envs/retrieva/lib/python3.10/site-packages (from llama-index-core<0.11.0,>=0.10.30->llama-index) (1.0.8)\n",
      "Requirement already satisfied: fsspec>=2023.5.0 in /home/peterdays/miniconda3/envs/retrieva/lib/python3.10/site-packages (from llama-index-core<0.11.0,>=0.10.30->llama-index) (2024.3.1)\n",
      "Requirement already satisfied: httpx in /home/peterdays/miniconda3/envs/retrieva/lib/python3.10/site-packages (from llama-index-core<0.11.0,>=0.10.30->llama-index) (0.27.0)\n",
      "Requirement already satisfied: llamaindex-py-client<0.2.0,>=0.1.18 in /home/peterdays/miniconda3/envs/retrieva/lib/python3.10/site-packages (from llama-index-core<0.11.0,>=0.10.30->llama-index) (0.1.18)\n",
      "Requirement already satisfied: nest-asyncio<2.0.0,>=1.5.8 in /home/peterdays/miniconda3/envs/retrieva/lib/python3.10/site-packages (from llama-index-core<0.11.0,>=0.10.30->llama-index) (1.6.0)\n",
      "Requirement already satisfied: networkx>=3.0 in /home/peterdays/.local/lib/python3.10/site-packages (from llama-index-core<0.11.0,>=0.10.30->llama-index) (3.0)\n",
      "Requirement already satisfied: nltk<4.0.0,>=3.8.1 in /home/peterdays/miniconda3/envs/retrieva/lib/python3.10/site-packages (from llama-index-core<0.11.0,>=0.10.30->llama-index) (3.8.1)\n",
      "Requirement already satisfied: numpy in /home/peterdays/miniconda3/envs/retrieva/lib/python3.10/site-packages (from llama-index-core<0.11.0,>=0.10.30->llama-index) (1.26.4)\n",
      "Requirement already satisfied: pandas in /home/peterdays/miniconda3/envs/retrieva/lib/python3.10/site-packages (from llama-index-core<0.11.0,>=0.10.30->llama-index) (2.2.2)\n",
      "Requirement already satisfied: pillow>=9.0.0 in /home/peterdays/.local/lib/python3.10/site-packages (from llama-index-core<0.11.0,>=0.10.30->llama-index) (9.4.0)\n",
      "Requirement already satisfied: requests>=2.31.0 in /home/peterdays/.local/lib/python3.10/site-packages (from llama-index-core<0.11.0,>=0.10.30->llama-index) (2.31.0)\n",
      "Requirement already satisfied: tenacity<9.0.0,>=8.2.0 in /home/peterdays/.local/lib/python3.10/site-packages (from llama-index-core<0.11.0,>=0.10.30->llama-index) (8.2.2)\n",
      "Requirement already satisfied: tiktoken>=0.3.3 in /home/peterdays/miniconda3/envs/retrieva/lib/python3.10/site-packages (from llama-index-core<0.11.0,>=0.10.30->llama-index) (0.6.0)\n",
      "Requirement already satisfied: tqdm<5.0.0,>=4.66.1 in /home/peterdays/.local/lib/python3.10/site-packages (from llama-index-core<0.11.0,>=0.10.30->llama-index) (4.66.1)\n",
      "Requirement already satisfied: typing-extensions>=4.5.0 in /home/peterdays/miniconda3/envs/retrieva/lib/python3.10/site-packages (from llama-index-core<0.11.0,>=0.10.30->llama-index) (4.11.0)\n",
      "Requirement already satisfied: typing-inspect>=0.8.0 in /home/peterdays/miniconda3/envs/retrieva/lib/python3.10/site-packages (from llama-index-core<0.11.0,>=0.10.30->llama-index) (0.9.0)\n",
      "Requirement already satisfied: wrapt in /home/peterdays/.local/lib/python3.10/site-packages (from llama-index-core<0.11.0,>=0.10.30->llama-index) (1.14.1)\n",
      "Requirement already satisfied: beautifulsoup4<5.0.0,>=4.12.3 in /home/peterdays/miniconda3/envs/retrieva/lib/python3.10/site-packages (from llama-index-readers-file<0.2.0,>=0.1.4->llama-index) (4.12.3)\n",
      "Requirement already satisfied: pypdf<5.0.0,>=4.0.1 in /home/peterdays/miniconda3/envs/retrieva/lib/python3.10/site-packages (from llama-index-readers-file<0.2.0,>=0.1.4->llama-index) (4.2.0)\n",
      "Requirement already satisfied: striprtf<0.0.27,>=0.0.26 in /home/peterdays/miniconda3/envs/retrieva/lib/python3.10/site-packages (from llama-index-readers-file<0.2.0,>=0.1.4->llama-index) (0.0.26)\n",
      "Requirement already satisfied: llama-parse<0.5.0,>=0.4.0 in /home/peterdays/miniconda3/envs/retrieva/lib/python3.10/site-packages (from llama-index-readers-llama-parse<0.2.0,>=0.1.2->llama-index) (0.4.1)\n",
      "Requirement already satisfied: aiosignal>=1.1.2 in /home/peterdays/.local/lib/python3.10/site-packages (from aiohttp<4.0.0,>=3.8.6->llama-index-core<0.11.0,>=0.10.30->llama-index) (1.3.1)\n",
      "Requirement already satisfied: attrs>=17.3.0 in /home/peterdays/miniconda3/envs/retrieva/lib/python3.10/site-packages (from aiohttp<4.0.0,>=3.8.6->llama-index-core<0.11.0,>=0.10.30->llama-index) (23.2.0)\n",
      "Requirement already satisfied: frozenlist>=1.1.1 in /home/peterdays/.local/lib/python3.10/site-packages (from aiohttp<4.0.0,>=3.8.6->llama-index-core<0.11.0,>=0.10.30->llama-index) (1.3.3)\n",
      "Requirement already satisfied: multidict<7.0,>=4.5 in /home/peterdays/.local/lib/python3.10/site-packages (from aiohttp<4.0.0,>=3.8.6->llama-index-core<0.11.0,>=0.10.30->llama-index) (6.0.4)\n",
      "Requirement already satisfied: yarl<2.0,>=1.0 in /home/peterdays/.local/lib/python3.10/site-packages (from aiohttp<4.0.0,>=3.8.6->llama-index-core<0.11.0,>=0.10.30->llama-index) (1.8.2)\n",
      "Requirement already satisfied: async-timeout<5.0,>=4.0 in /home/peterdays/.local/lib/python3.10/site-packages (from aiohttp<4.0.0,>=3.8.6->llama-index-core<0.11.0,>=0.10.30->llama-index) (4.0.2)\n",
      "Requirement already satisfied: soupsieve>1.2 in /home/peterdays/.local/lib/python3.10/site-packages (from beautifulsoup4<5.0.0,>=4.12.3->llama-index-readers-file<0.2.0,>=0.1.4->llama-index) (2.4.1)\n",
      "Requirement already satisfied: pydantic>=1.10 in /home/peterdays/.local/lib/python3.10/site-packages (from llamaindex-py-client<0.2.0,>=0.1.18->llama-index-core<0.11.0,>=0.10.30->llama-index) (1.10.7)\n",
      "Requirement already satisfied: anyio in /home/peterdays/.local/lib/python3.10/site-packages (from httpx->llama-index-core<0.11.0,>=0.10.30->llama-index) (3.6.2)\n",
      "Requirement already satisfied: certifi in /home/peterdays/miniconda3/envs/retrieva/lib/python3.10/site-packages (from httpx->llama-index-core<0.11.0,>=0.10.30->llama-index) (2024.2.2)\n",
      "Requirement already satisfied: httpcore==1.* in /home/peterdays/miniconda3/envs/retrieva/lib/python3.10/site-packages (from httpx->llama-index-core<0.11.0,>=0.10.30->llama-index) (1.0.5)\n",
      "Requirement already satisfied: idna in /home/peterdays/miniconda3/envs/retrieva/lib/python3.10/site-packages (from httpx->llama-index-core<0.11.0,>=0.10.30->llama-index) (3.7)\n",
      "Requirement already satisfied: sniffio in /home/peterdays/.local/lib/python3.10/site-packages (from httpx->llama-index-core<0.11.0,>=0.10.30->llama-index) (1.3.0)\n",
      "Requirement already satisfied: h11<0.15,>=0.13 in /home/peterdays/miniconda3/envs/retrieva/lib/python3.10/site-packages (from httpcore==1.*->httpx->llama-index-core<0.11.0,>=0.10.30->llama-index) (0.14.0)\n",
      "Requirement already satisfied: click in /home/peterdays/miniconda3/envs/retrieva/lib/python3.10/site-packages (from nltk<4.0.0,>=3.8.1->llama-index-core<0.11.0,>=0.10.30->llama-index) (8.1.7)\n",
      "Requirement already satisfied: joblib in /home/peterdays/.local/lib/python3.10/site-packages (from nltk<4.0.0,>=3.8.1->llama-index-core<0.11.0,>=0.10.30->llama-index) (1.2.0)\n",
      "Requirement already satisfied: regex>=2021.8.3 in /home/peterdays/miniconda3/envs/retrieva/lib/python3.10/site-packages (from nltk<4.0.0,>=3.8.1->llama-index-core<0.11.0,>=0.10.30->llama-index) (2024.4.16)\n",
      "Requirement already satisfied: distro<2,>=1.7.0 in /home/peterdays/miniconda3/envs/retrieva/lib/python3.10/site-packages (from openai>=1.14.0->llama-index-agent-openai<0.3.0,>=0.1.4->llama-index) (1.9.0)\n",
      "Requirement already satisfied: charset-normalizer<4,>=2 in /home/peterdays/.local/lib/python3.10/site-packages (from requests>=2.31.0->llama-index-core<0.11.0,>=0.10.30->llama-index) (2.1.1)\n",
      "Requirement already satisfied: urllib3<3,>=1.21.1 in /home/peterdays/miniconda3/envs/retrieva/lib/python3.10/site-packages (from requests>=2.31.0->llama-index-core<0.11.0,>=0.10.30->llama-index) (2.2.1)\n",
      "Requirement already satisfied: greenlet!=0.4.17 in /home/peterdays/miniconda3/envs/retrieva/lib/python3.10/site-packages (from SQLAlchemy>=1.4.49->SQLAlchemy[asyncio]>=1.4.49->llama-index-core<0.11.0,>=0.10.30->llama-index) (3.0.3)\n",
      "Requirement already satisfied: mypy-extensions>=0.3.0 in /home/peterdays/miniconda3/envs/retrieva/lib/python3.10/site-packages (from typing-inspect>=0.8.0->llama-index-core<0.11.0,>=0.10.30->llama-index) (1.0.0)\n",
      "Requirement already satisfied: marshmallow<4.0.0,>=3.18.0 in /home/peterdays/miniconda3/envs/retrieva/lib/python3.10/site-packages (from dataclasses-json->llama-index-core<0.11.0,>=0.10.30->llama-index) (3.21.1)\n",
      "Requirement already satisfied: python-dateutil>=2.8.2 in /home/peterdays/.local/lib/python3.10/site-packages (from pandas->llama-index-core<0.11.0,>=0.10.30->llama-index) (2.8.2)\n",
      "Requirement already satisfied: pytz>=2020.1 in /home/peterdays/miniconda3/envs/retrieva/lib/python3.10/site-packages (from pandas->llama-index-core<0.11.0,>=0.10.30->llama-index) (2024.1)\n",
      "Requirement already satisfied: tzdata>=2022.7 in /home/peterdays/miniconda3/envs/retrieva/lib/python3.10/site-packages (from pandas->llama-index-core<0.11.0,>=0.10.30->llama-index) (2024.1)\n",
      "Requirement already satisfied: packaging>=17.0 in /home/peterdays/miniconda3/envs/retrieva/lib/python3.10/site-packages (from marshmallow<4.0.0,>=3.18.0->dataclasses-json->llama-index-core<0.11.0,>=0.10.30->llama-index) (24.0)\n",
      "Requirement already satisfied: six>=1.5 in /home/peterdays/miniconda3/envs/retrieva/lib/python3.10/site-packages (from python-dateutil>=2.8.2->pandas->llama-index-core<0.11.0,>=0.10.30->llama-index) (1.16.0)\n",
      "Note: you may need to restart the kernel to use updated packages.\n"
     ]
    }
   ],
   "source": [
    "pip install llama-index"
   ]
  },
  {
   "cell_type": "code",
   "execution_count": 4,
   "id": "d7159fda-deb5-434b-be64-64a1e58745a5",
   "metadata": {
    "execution": {
     "iopub.execute_input": "2024-04-20T13:49:22.345298Z",
     "iopub.status.busy": "2024-04-20T13:49:22.344840Z",
     "iopub.status.idle": "2024-04-20T13:49:22.373873Z",
     "shell.execute_reply": "2024-04-20T13:49:22.372488Z",
     "shell.execute_reply.started": "2024-04-20T13:49:22.345257Z"
    }
   },
   "outputs": [],
   "source": [
    "# https://docs.llamaindex.ai/en/stable/module_guides/models/llms/usage_custom/"
   ]
  },
  {
   "cell_type": "code",
   "execution_count": 29,
   "id": "db7f6a06-e123-4c46-bf0a-80e6c9e93fdb",
   "metadata": {
    "execution": {
     "iopub.execute_input": "2024-04-20T15:20:36.982349Z",
     "iopub.status.busy": "2024-04-20T15:20:36.981936Z",
     "iopub.status.idle": "2024-04-20T15:20:37.042281Z",
     "shell.execute_reply": "2024-04-20T15:20:37.041415Z",
     "shell.execute_reply.started": "2024-04-20T15:20:36.982312Z"
    }
   },
   "outputs": [
    {
     "data": {
      "text/plain": [
       "True"
      ]
     },
     "execution_count": 29,
     "metadata": {},
     "output_type": "execute_result"
    }
   ],
   "source": [
    "from dotenv import load_dotenv\n",
    "\n",
    "load_dotenv(os.path.join(ROOT_PATH, \".env\"))"
   ]
  },
  {
   "cell_type": "code",
   "execution_count": 8,
   "id": "f58a28d5-54de-41b5-8817-bc0c7e9e1eb6",
   "metadata": {
    "execution": {
     "iopub.execute_input": "2024-04-20T13:49:30.034382Z",
     "iopub.status.busy": "2024-04-20T13:49:30.032539Z",
     "iopub.status.idle": "2024-04-20T13:49:30.062157Z",
     "shell.execute_reply": "2024-04-20T13:49:30.060521Z",
     "shell.execute_reply.started": "2024-04-20T13:49:30.034304Z"
    }
   },
   "outputs": [],
   "source": [
    "import logging\n",
    "import sys\n",
    "\n",
    "logging.basicConfig(stream=sys.stdout, level=logging.INFO)\n",
    "logging.getLogger().addHandler(logging.StreamHandler(stream=sys.stdout))"
   ]
  },
  {
   "cell_type": "code",
   "execution_count": 9,
   "id": "70b5d5be-21c1-434d-b1b5-0b271645c205",
   "metadata": {
    "execution": {
     "iopub.execute_input": "2024-04-20T13:49:30.212646Z",
     "iopub.status.busy": "2024-04-20T13:49:30.212127Z",
     "iopub.status.idle": "2024-04-20T13:49:32.026520Z",
     "shell.execute_reply": "2024-04-20T13:49:32.025500Z",
     "shell.execute_reply.started": "2024-04-20T13:49:30.212605Z"
    }
   },
   "outputs": [],
   "source": [
    "from llama_index.core import SimpleDirectoryReader\n",
    "\n",
    "documents = SimpleDirectoryReader(data_path).load_data()"
   ]
  },
  {
   "cell_type": "code",
   "execution_count": 10,
   "id": "982c563d-f3bd-47b4-8951-6f1fed18af3f",
   "metadata": {
    "execution": {
     "iopub.execute_input": "2024-04-20T13:49:32.028182Z",
     "iopub.status.busy": "2024-04-20T13:49:32.027821Z",
     "iopub.status.idle": "2024-04-20T13:49:32.064572Z",
     "shell.execute_reply": "2024-04-20T13:49:32.063549Z",
     "shell.execute_reply.started": "2024-04-20T13:49:32.028160Z"
    }
   },
   "outputs": [
    {
     "data": {
      "text/plain": [
       "'\\n\\nHyperparameter Tuning with Amazon SageMaker RL<a name=\"sagemaker-rl-tuning\"></a>\\n\\nYou can run a hyperparameter tuning job to optimize hyperparameters for Amazon SageMaker RL\\\\. The Roboschool example in the sample notebooks in the SageMaker examples repository shows how you can do this with RL Coach\\\\. The launcher script shows how you can abstract parameters from the Coach preset file and optimize them\\\\.\\n'"
      ]
     },
     "execution_count": 10,
     "metadata": {},
     "output_type": "execute_result"
    }
   ],
   "source": [
    "documents[0].text"
   ]
  },
  {
   "cell_type": "markdown",
   "id": "b27f03fd-668c-4043-9a61-6d19ba918801",
   "metadata": {},
   "source": [
    "## Transforming"
   ]
  },
  {
   "cell_type": "code",
   "execution_count": 11,
   "id": "f641196f-c27e-44aa-ba80-1bf1be7b0249",
   "metadata": {
    "execution": {
     "iopub.execute_input": "2024-04-20T13:49:34.525274Z",
     "iopub.status.busy": "2024-04-20T13:49:34.524479Z",
     "iopub.status.idle": "2024-04-20T13:49:39.124615Z",
     "shell.execute_reply": "2024-04-20T13:49:39.123801Z",
     "shell.execute_reply.started": "2024-04-20T13:49:34.525220Z"
    },
    "scrolled": true
   },
   "outputs": [
    {
     "name": "stdout",
     "output_type": "stream",
     "text": [
      "INFO:httpx:HTTP Request: POST https://api.openai.com/v1/embeddings \"HTTP/1.1 200 OK\"\n",
      "HTTP Request: POST https://api.openai.com/v1/embeddings \"HTTP/1.1 200 OK\"\n",
      "INFO:httpx:HTTP Request: POST https://api.openai.com/v1/embeddings \"HTTP/1.1 200 OK\"\n",
      "HTTP Request: POST https://api.openai.com/v1/embeddings \"HTTP/1.1 200 OK\"\n"
     ]
    }
   ],
   "source": [
    "from llama_index.core.node_parser import SentenceSplitter\n",
    "\n",
    "from llama_index.core import VectorStoreIndex\n",
    "\n",
    "vector_index = VectorStoreIndex.from_documents(documents)\n",
    "vector_index.as_query_engine()\n",
    "\n",
    "text_splitter = SentenceSplitter(chunk_size=512, chunk_overlap=15)\n",
    "\n",
    "# global\n",
    "from llama_index.core import Settings\n",
    "\n",
    "Settings.text_splitter = text_splitter\n",
    "\n",
    "# per-index\n",
    "index = VectorStoreIndex.from_documents(\n",
    "    documents, transformations=[text_splitter]\n",
    ")"
   ]
  },
  {
   "cell_type": "code",
   "execution_count": 28,
   "id": "70512fd5-4bb1-44c1-a516-090924a24d09",
   "metadata": {
    "execution": {
     "iopub.execute_input": "2024-04-20T14:56:12.031587Z",
     "iopub.status.busy": "2024-04-20T14:56:12.030959Z",
     "iopub.status.idle": "2024-04-20T14:56:13.645002Z",
     "shell.execute_reply": "2024-04-20T14:56:13.643814Z",
     "shell.execute_reply.started": "2024-04-20T14:56:12.031523Z"
    }
   },
   "outputs": [
    {
     "name": "stdout",
     "output_type": "stream",
     "text": [
      "Sagemaker is a software agent that runs on edge devices, providing model management for edge devices. It allows users to package and use Amazon SageMaker Neo-compiled models directly on Greengrass core devices.\n"
     ]
    }
   ],
   "source": [
    "from IPython.display import clear_output\n",
    "\n",
    "\n",
    "# set Logging to DEBUG for more detailed outputs\n",
    "query_engine = index.as_query_engine(streaming=True, similarity_top_k=2)\n",
    "response_stream = query_engine.query(\"What is sagemaker?\")\n",
    "# response_stream.print_response_stream()\n",
    "sentence = \"\"\n",
    "for text in response_stream.response_gen:\n",
    "    # do something with text as they arrive.\n",
    "    sentence += text\n",
    "    clear_output()\n",
    "    print(sentence)"
   ]
  },
  {
   "cell_type": "code",
   "execution_count": null,
   "id": "c52234cf-8333-4003-88e6-f5f8257f8d42",
   "metadata": {},
   "outputs": [],
   "source": []
  }
 ],
 "metadata": {
  "kernelspec": {
   "display_name": "Python 3 (ipykernel)",
   "language": "python",
   "name": "python3"
  },
  "language_info": {
   "codemirror_mode": {
    "name": "ipython",
    "version": 3
   },
   "file_extension": ".py",
   "mimetype": "text/x-python",
   "name": "python",
   "nbconvert_exporter": "python",
   "pygments_lexer": "ipython3",
   "version": "3.10.14"
  }
 },
 "nbformat": 4,
 "nbformat_minor": 5
}
