{
 "cells": [
  {
   "cell_type": "code",
   "execution_count": 1,
   "id": "0186730b-3ba8-46e8-881f-ab5b101e4edd",
   "metadata": {
    "execution": {
     "iopub.execute_input": "2024-04-22T11:46:55.685728Z",
     "iopub.status.busy": "2024-04-22T11:46:55.685295Z",
     "iopub.status.idle": "2024-04-22T11:46:55.704344Z",
     "shell.execute_reply": "2024-04-22T11:46:55.703728Z",
     "shell.execute_reply.started": "2024-04-22T11:46:55.685693Z"
    }
   },
   "outputs": [],
   "source": [
    "%load_ext autoreload\n",
    "%autoreload 2"
   ]
  },
  {
   "cell_type": "markdown",
   "id": "44583222-8845-40e9-af52-8519f2d3adf6",
   "metadata": {},
   "source": [
    "# testing the handler"
   ]
  },
  {
   "cell_type": "code",
   "execution_count": 2,
   "id": "dd2cb59f-262d-450e-8ac6-c4670d7bf448",
   "metadata": {
    "execution": {
     "iopub.execute_input": "2024-04-22T11:46:56.682302Z",
     "iopub.status.busy": "2024-04-22T11:46:56.681110Z",
     "iopub.status.idle": "2024-04-22T11:46:58.137393Z",
     "shell.execute_reply": "2024-04-22T11:46:58.136345Z",
     "shell.execute_reply.started": "2024-04-22T11:46:56.682259Z"
    }
   },
   "outputs": [
    {
     "data": {
      "text/plain": [
       "True"
      ]
     },
     "execution_count": 2,
     "metadata": {},
     "output_type": "execute_result"
    }
   ],
   "source": [
    "from retrieva.handler import RagHandler\n",
    "from dotenv import load_dotenv\n",
    "import os\n",
    "from retrieva import ROOT_PATH\n",
    "from retrieva.data import DATA_PATH\n",
    "# used in dev; in production pass the env variable to the containers\n",
    "load_dotenv(os.path.join(ROOT_PATH, \".env\"))"
   ]
  },
  {
   "cell_type": "code",
   "execution_count": 3,
   "id": "7a944f12-3a7e-49e7-a979-0a0da492bf6e",
   "metadata": {
    "execution": {
     "iopub.execute_input": "2024-04-22T11:46:58.567732Z",
     "iopub.status.busy": "2024-04-22T11:46:58.566656Z",
     "iopub.status.idle": "2024-04-22T11:46:58.591819Z",
     "shell.execute_reply": "2024-04-22T11:46:58.590652Z",
     "shell.execute_reply.started": "2024-04-22T11:46:58.567696Z"
    }
   },
   "outputs": [],
   "source": [
    "from IPython.display import Markdown, display, clear_output\n",
    "\n",
    "# define prompt viewing function\n",
    "def display_prompt_dict(prompts_dict):\n",
    "    for k, p in prompts_dict.items():\n",
    "        text_md = f\"**Prompt Key**: {k}<br>\" f\"**Text:** <br>\"\n",
    "        display(Markdown(text_md))\n",
    "        print(p.get_template())\n",
    "        display(Markdown(\"<br><br>\"))"
   ]
  },
  {
   "cell_type": "code",
   "execution_count": 12,
   "id": "d970beb4-8eca-4c15-a374-512253e11469",
   "metadata": {
    "execution": {
     "iopub.execute_input": "2024-04-22T11:49:54.831315Z",
     "iopub.status.busy": "2024-04-22T11:49:54.831071Z",
     "iopub.status.idle": "2024-04-22T11:49:56.648799Z",
     "shell.execute_reply": "2024-04-22T11:49:56.648040Z",
     "shell.execute_reply.started": "2024-04-22T11:49:54.831289Z"
    }
   },
   "outputs": [
    {
     "name": "stdout",
     "output_type": "stream",
     "text": [
      "INFO:httpx:HTTP Request: POST https://api.openai.com/v1/embeddings \"HTTP/1.1 200 OK\"\n",
      "HTTP Request: POST https://api.openai.com/v1/embeddings \"HTTP/1.1 200 OK\"\n",
      "HTTP Request: POST https://api.openai.com/v1/embeddings \"HTTP/1.1 200 OK\"\n"
     ]
    }
   ],
   "source": [
    "rag_handler = RagHandler(\n",
    "    index_name=\"SageMakerDocs\",\n",
    "    weaviate_url=os.environ[\"WEAVIATE_URL\"],\n",
    "    data_path=DATA_PATH\n",
    ")"
   ]
  },
  {
   "cell_type": "code",
   "execution_count": 17,
   "id": "46da3d44-f3be-42e9-9f04-0dfe647c4e18",
   "metadata": {
    "execution": {
     "iopub.execute_input": "2024-04-22T11:54:07.780548Z",
     "iopub.status.busy": "2024-04-22T11:54:07.779394Z",
     "iopub.status.idle": "2024-04-22T11:54:08.190793Z",
     "shell.execute_reply": "2024-04-22T11:54:08.189931Z",
     "shell.execute_reply.started": "2024-04-22T11:54:07.780450Z"
    },
    "scrolled": true
   },
   "outputs": [
    {
     "name": "stdout",
     "output_type": "stream",
     "text": [
      "INFO:httpx:HTTP Request: POST https://api.openai.com/v1/embeddings \"HTTP/1.1 200 OK\"\n",
      "HTTP Request: POST https://api.openai.com/v1/embeddings \"HTTP/1.1 200 OK\"\n",
      "HTTP Request: POST https://api.openai.com/v1/embeddings \"HTTP/1.1 200 OK\"\n"
     ]
    }
   ],
   "source": [
    "# testing\n",
    "query = \"how can I solve a RL aws problem with sagemaker?\"\n",
    "# query = \"am I an OVNI?\"\n",
    "resp_stream = rag_handler.user_prompt_streaming(query)"
   ]
  },
  {
   "cell_type": "code",
   "execution_count": 18,
   "id": "bbbdef93-4428-4a18-a378-5bc4ede83c3b",
   "metadata": {
    "execution": {
     "iopub.execute_input": "2024-04-22T11:54:08.193921Z",
     "iopub.status.busy": "2024-04-22T11:54:08.193035Z",
     "iopub.status.idle": "2024-04-22T11:54:11.855091Z",
     "shell.execute_reply": "2024-04-22T11:54:11.853897Z",
     "shell.execute_reply.started": "2024-04-22T11:54:08.193863Z"
    }
   },
   "outputs": [
    {
     "name": "stdout",
     "output_type": "stream",
     "text": [
      "To solve a RL problem using Amazon SageMaker, you can follow these steps:\n",
      "\n",
      "1. Formulate the RL problem by defining the components of the Markov Decision Process, such as the objective, environment, state, action, and reward.\n",
      "2. Define the RL environment, which can be the real world or a simulation.\n",
      "3. Define the presets to configure the RL training jobs and set hyperparameters for the RL algorithms.\n",
      "4. Write the training code as a Python script and pass it to a SageMaker training job.\n",
      "5. Train the RL model using the SageMaker `RLEstimator` in the Amazon SageMaker Python SDK.\n",
      "\n",
      "For complete code examples and further reading, you can refer to the sample notebooks at https://github.com/awslabs/amazon-sagemaker-examples/tree/master/reinforcement-learning.\n"
     ]
    }
   ],
   "source": [
    "sentence = \"\"\n",
    "for text in resp_stream.response_gen:\n",
    "    # return the texts as they arrive.\n",
    "    clear_output()\n",
    "    sentence += text\n",
    "    print(sentence)"
   ]
  },
  {
   "cell_type": "code",
   "execution_count": 6,
   "id": "0c104939-a75c-4fd7-abf3-16070f4ea780",
   "metadata": {
    "execution": {
     "iopub.execute_input": "2024-04-22T11:47:19.053917Z",
     "iopub.status.busy": "2024-04-22T11:47:19.053445Z",
     "iopub.status.idle": "2024-04-22T11:47:19.086603Z",
     "shell.execute_reply": "2024-04-22T11:47:19.085738Z",
     "shell.execute_reply.started": "2024-04-22T11:47:19.053878Z"
    },
    "scrolled": true
   },
   "outputs": [
    {
     "data": {
      "text/markdown": [
       "**Prompt Key**: response_synthesizer:summary_template<br>**Text:** <br>"
      ],
      "text/plain": [
       "<IPython.core.display.Markdown object>"
      ]
     },
     "metadata": {},
     "output_type": "display_data"
    },
    {
     "name": "stdout",
     "output_type": "stream",
     "text": [
      "You are a summarization service to help users navigate proprietary documentation of their companies.\n",
      "Always include the filepaths from the nodes in the context information to support the answer as well as further reading that may be mentioned in the docs. Remove '/home/peterdays/Documents/personal/retrieva/artifacts/sagemaker_documentation_small' from the metadatas' filepaths\n",
      "Context information is below.\n",
      "---------------------\n",
      "{context_str}\n",
      "---------------------\n",
      "If the query and the context don't make sense answer with 'There is no good match in the docs for this prompt'\n",
      "Given the context information and not prior knowledge, answer the query.\n",
      "Query: {query_str}\n",
      "Answer: \n"
     ]
    },
    {
     "data": {
      "text/markdown": [
       "<br><br>"
      ],
      "text/plain": [
       "<IPython.core.display.Markdown object>"
      ]
     },
     "metadata": {},
     "output_type": "display_data"
    }
   ],
   "source": [
    "prompts_dict = rag_handler.engine.get_prompts()\n",
    "display_prompt_dict(prompts_dict)"
   ]
  },
  {
   "cell_type": "code",
   "execution_count": null,
   "id": "10300f96-b584-4ee3-b898-dbc955c98bcb",
   "metadata": {},
   "outputs": [],
   "source": []
  }
 ],
 "metadata": {
  "kernelspec": {
   "display_name": "Python 3 (ipykernel)",
   "language": "python",
   "name": "python3"
  },
  "language_info": {
   "codemirror_mode": {
    "name": "ipython",
    "version": 3
   },
   "file_extension": ".py",
   "mimetype": "text/x-python",
   "name": "python",
   "nbconvert_exporter": "python",
   "pygments_lexer": "ipython3",
   "version": "3.10.14"
  }
 },
 "nbformat": 4,
 "nbformat_minor": 5
}
