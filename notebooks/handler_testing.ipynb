{
 "cells": [
  {
   "cell_type": "code",
   "execution_count": 1,
   "id": "0186730b-3ba8-46e8-881f-ab5b101e4edd",
   "metadata": {
    "execution": {
     "iopub.execute_input": "2024-04-22T21:00:27.125794Z",
     "iopub.status.busy": "2024-04-22T21:00:27.125614Z",
     "iopub.status.idle": "2024-04-22T21:00:27.163953Z",
     "shell.execute_reply": "2024-04-22T21:00:27.163081Z",
     "shell.execute_reply.started": "2024-04-22T21:00:27.125775Z"
    }
   },
   "outputs": [],
   "source": [
    "%load_ext autoreload\n",
    "%autoreload 2"
   ]
  },
  {
   "cell_type": "markdown",
   "id": "44583222-8845-40e9-af52-8519f2d3adf6",
   "metadata": {},
   "source": [
    "# testing the handler"
   ]
  },
  {
   "cell_type": "code",
   "execution_count": 2,
   "id": "dd2cb59f-262d-450e-8ac6-c4670d7bf448",
   "metadata": {
    "execution": {
     "iopub.execute_input": "2024-04-22T21:00:27.172532Z",
     "iopub.status.busy": "2024-04-22T21:00:27.171907Z",
     "iopub.status.idle": "2024-04-22T21:00:28.651757Z",
     "shell.execute_reply": "2024-04-22T21:00:28.651035Z",
     "shell.execute_reply.started": "2024-04-22T21:00:27.172498Z"
    }
   },
   "outputs": [
    {
     "data": {
      "text/plain": [
       "True"
      ]
     },
     "execution_count": 2,
     "metadata": {},
     "output_type": "execute_result"
    }
   ],
   "source": [
    "from retrieva.handler import RagHandler\n",
    "from dotenv import load_dotenv\n",
    "import os\n",
    "from retrieva import ROOT_PATH\n",
    "# used in dev; in production pass the env variable to the containers\n",
    "load_dotenv(os.path.join(ROOT_PATH, \".env\"))"
   ]
  },
  {
   "cell_type": "code",
   "execution_count": 3,
   "id": "7a944f12-3a7e-49e7-a979-0a0da492bf6e",
   "metadata": {
    "execution": {
     "iopub.execute_input": "2024-04-22T21:00:28.652821Z",
     "iopub.status.busy": "2024-04-22T21:00:28.652559Z",
     "iopub.status.idle": "2024-04-22T21:00:28.676193Z",
     "shell.execute_reply": "2024-04-22T21:00:28.675374Z",
     "shell.execute_reply.started": "2024-04-22T21:00:28.652807Z"
    }
   },
   "outputs": [],
   "source": [
    "from IPython.display import Markdown, display, clear_output\n",
    "\n",
    "# define prompt viewing function\n",
    "def display_prompt_dict(prompts_dict):\n",
    "    for k, p in prompts_dict.items():\n",
    "        text_md = f\"**Prompt Key**: {k}<br>\" f\"**Text:** <br>\"\n",
    "        display(Markdown(text_md))\n",
    "        print(p.get_template())\n",
    "        display(Markdown(\"<br><br>\"))"
   ]
  },
  {
   "cell_type": "code",
   "execution_count": 4,
   "id": "75b8f07c-a56e-4682-b199-411ab84abccf",
   "metadata": {
    "execution": {
     "iopub.execute_input": "2024-04-22T21:00:29.694570Z",
     "iopub.status.busy": "2024-04-22T21:00:29.694262Z",
     "iopub.status.idle": "2024-04-22T21:00:29.719484Z",
     "shell.execute_reply": "2024-04-22T21:00:29.718871Z",
     "shell.execute_reply.started": "2024-04-22T21:00:29.694545Z"
    }
   },
   "outputs": [],
   "source": [
    "from retrieva.data import add_root"
   ]
  },
  {
   "cell_type": "code",
   "execution_count": 5,
   "id": "d970beb4-8eca-4c15-a374-512253e11469",
   "metadata": {
    "execution": {
     "iopub.execute_input": "2024-04-22T21:00:30.039572Z",
     "iopub.status.busy": "2024-04-22T21:00:30.038713Z",
     "iopub.status.idle": "2024-04-22T21:00:30.511447Z",
     "shell.execute_reply": "2024-04-22T21:00:30.510473Z",
     "shell.execute_reply.started": "2024-04-22T21:00:30.039534Z"
    }
   },
   "outputs": [
    {
     "name": "stdout",
     "output_type": "stream",
     "text": [
      "2024-04-22 22:00:30,115 | INFO | handler - __init__() \n",
      ">>>> Using weaviate db at http://localhost:10080\n",
      "\n",
      "2024-04-22 22:00:30,242 | INFO | handler - __init__() \n",
      ">>>> Loading SageMakerDocs...\n",
      "\n"
     ]
    },
    {
     "name": "stderr",
     "output_type": "stream",
     "text": [
      "/home/peterdays/miniconda3/envs/retrieva/lib/python3.10/site-packages/weaviate/warnings.py:121: DeprecationWarning: Dep005: You are using weaviate-client version 3.26.2. The latest version is 4.5.5.\n",
      "            Please consider upgrading to the latest version. See https://weaviate.io/developers/weaviate/client-libraries/python for details.\n",
      "  warnings.warn(\n"
     ]
    }
   ],
   "source": [
    "rag_handler = RagHandler(\n",
    "    index_name=\"SageMakerDocs\",\n",
    "    weaviate_url=os.environ[\"WEAVIATE_URL\"],\n",
    "    data_path=add_root(os.environ[\"DATA_FOLDER_PATH\"])\n",
    ")"
   ]
  },
  {
   "cell_type": "code",
   "execution_count": 6,
   "id": "46da3d44-f3be-42e9-9f04-0dfe647c4e18",
   "metadata": {
    "execution": {
     "iopub.execute_input": "2024-04-22T21:00:32.079433Z",
     "iopub.status.busy": "2024-04-22T21:00:32.079236Z",
     "iopub.status.idle": "2024-04-22T21:00:33.010414Z",
     "shell.execute_reply": "2024-04-22T21:00:33.009453Z",
     "shell.execute_reply.started": "2024-04-22T21:00:32.079418Z"
    },
    "scrolled": true
   },
   "outputs": [
    {
     "name": "stdout",
     "output_type": "stream",
     "text": [
      "INFO:httpx:HTTP Request: POST https://api.openai.com/v1/embeddings \"HTTP/1.1 200 OK\"\n",
      "HTTP Request: POST https://api.openai.com/v1/embeddings \"HTTP/1.1 200 OK\"\n"
     ]
    }
   ],
   "source": [
    "# testing\n",
    "query = \"how can I solve a RL aws problem with sagemaker?\"\n",
    "# query = \"am I an OVNI?\"\n",
    "resp_stream = rag_handler.user_prompt_streaming(query)"
   ]
  },
  {
   "cell_type": "code",
   "execution_count": 7,
   "id": "bbbdef93-4428-4a18-a378-5bc4ede83c3b",
   "metadata": {
    "execution": {
     "iopub.execute_input": "2024-04-22T21:00:33.011564Z",
     "iopub.status.busy": "2024-04-22T21:00:33.011379Z",
     "iopub.status.idle": "2024-04-22T21:00:38.313453Z",
     "shell.execute_reply": "2024-04-22T21:00:38.312706Z",
     "shell.execute_reply.started": "2024-04-22T21:00:33.011549Z"
    }
   },
   "outputs": [
    {
     "name": "stdout",
     "output_type": "stream",
     "text": [
      "To solve a RL problem using Amazon SageMaker RL, you can follow these steps:\n",
      "\n",
      "1. Formulate the RL problem by defining the components of the Markov Decision Process, such as the objective, environment, state, action, and reward.\n",
      "2. Define the RL environment, which can be the real world or a simulation of the real world using Gym interfaces or commercial simulation environments.\n",
      "3. Define the presets to configure the RL training jobs and set hyperparameters for the RL algorithms.\n",
      "4. Write the training code as a Python script, import the environment and preset files, and define the `main()` function.\n",
      "5. Train the RL model using the SageMaker `RLEstimator` in the Amazon SageMaker Python SDK.\n",
      "\n",
      "For more detailed information and code examples, you can refer to the sample notebooks at https://github.com/awslabs/amazon-sagemaker-examples/tree/master/reinforcement-learning.\n",
      "\n",
      "For hyperparameter tuning with Amazon SageMaker RL, you can run a hyperparameter tuning job to optimize hyperparameters using the Roboschool example in the sample notebooks in the SageMaker examples repository.\n",
      "\n",
      "For further reading on hyperparameter tuning with Amazon SageMaker RL, you can refer to the documentation in the file: sagemaker-rl-tuning.md.\n"
     ]
    }
   ],
   "source": [
    "sentence = \"\"\n",
    "for text in resp_stream.response_gen:\n",
    "    # return the texts as they arrive.\n",
    "    clear_output()\n",
    "    sentence += text\n",
    "    print(sentence)"
   ]
  },
  {
   "cell_type": "code",
   "execution_count": 6,
   "id": "0c104939-a75c-4fd7-abf3-16070f4ea780",
   "metadata": {
    "execution": {
     "iopub.execute_input": "2024-04-22T11:47:19.053917Z",
     "iopub.status.busy": "2024-04-22T11:47:19.053445Z",
     "iopub.status.idle": "2024-04-22T11:47:19.086603Z",
     "shell.execute_reply": "2024-04-22T11:47:19.085738Z",
     "shell.execute_reply.started": "2024-04-22T11:47:19.053878Z"
    },
    "scrolled": true
   },
   "outputs": [
    {
     "data": {
      "text/markdown": [
       "**Prompt Key**: response_synthesizer:summary_template<br>**Text:** <br>"
      ],
      "text/plain": [
       "<IPython.core.display.Markdown object>"
      ]
     },
     "metadata": {},
     "output_type": "display_data"
    },
    {
     "name": "stdout",
     "output_type": "stream",
     "text": [
      "You are a summarization service to help users navigate proprietary documentation of their companies.\n",
      "Always include the filepaths from the nodes in the context information to support the answer as well as further reading that may be mentioned in the docs. Remove '/home/peterdays/Documents/personal/retrieva/artifacts/sagemaker_documentation_small' from the metadatas' filepaths\n",
      "Context information is below.\n",
      "---------------------\n",
      "{context_str}\n",
      "---------------------\n",
      "If the query and the context don't make sense answer with 'There is no good match in the docs for this prompt'\n",
      "Given the context information and not prior knowledge, answer the query.\n",
      "Query: {query_str}\n",
      "Answer: \n"
     ]
    },
    {
     "data": {
      "text/markdown": [
       "<br><br>"
      ],
      "text/plain": [
       "<IPython.core.display.Markdown object>"
      ]
     },
     "metadata": {},
     "output_type": "display_data"
    }
   ],
   "source": [
    "prompts_dict = rag_handler.engine.get_prompts()\n",
    "display_prompt_dict(prompts_dict)"
   ]
  },
  {
   "cell_type": "code",
   "execution_count": null,
   "id": "10300f96-b584-4ee3-b898-dbc955c98bcb",
   "metadata": {},
   "outputs": [],
   "source": []
  }
 ],
 "metadata": {
  "kernelspec": {
   "display_name": "Python 3 (ipykernel)",
   "language": "python",
   "name": "python3"
  },
  "language_info": {
   "codemirror_mode": {
    "name": "ipython",
    "version": 3
   },
   "file_extension": ".py",
   "mimetype": "text/x-python",
   "name": "python",
   "nbconvert_exporter": "python",
   "pygments_lexer": "ipython3",
   "version": "3.10.14"
  }
 },
 "nbformat": 4,
 "nbformat_minor": 5
}
