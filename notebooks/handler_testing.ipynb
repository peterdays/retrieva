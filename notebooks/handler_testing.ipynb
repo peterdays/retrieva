{
 "cells": [
  {
   "cell_type": "code",
   "execution_count": 1,
   "id": "0186730b-3ba8-46e8-881f-ab5b101e4edd",
   "metadata": {
    "execution": {
     "iopub.execute_input": "2024-04-21T17:22:58.815910Z",
     "iopub.status.busy": "2024-04-21T17:22:58.815391Z",
     "iopub.status.idle": "2024-04-21T17:22:58.843221Z",
     "shell.execute_reply": "2024-04-21T17:22:58.842210Z",
     "shell.execute_reply.started": "2024-04-21T17:22:58.815861Z"
    }
   },
   "outputs": [],
   "source": [
    "%load_ext autoreload\n",
    "%autoreload 2"
   ]
  },
  {
   "cell_type": "markdown",
   "id": "44583222-8845-40e9-af52-8519f2d3adf6",
   "metadata": {},
   "source": [
    "# testing the handler"
   ]
  },
  {
   "cell_type": "code",
   "execution_count": 2,
   "id": "dd2cb59f-262d-450e-8ac6-c4670d7bf448",
   "metadata": {
    "execution": {
     "iopub.execute_input": "2024-04-21T17:22:58.867446Z",
     "iopub.status.busy": "2024-04-21T17:22:58.866942Z",
     "iopub.status.idle": "2024-04-21T17:23:01.121100Z",
     "shell.execute_reply": "2024-04-21T17:23:01.120119Z",
     "shell.execute_reply.started": "2024-04-21T17:22:58.867418Z"
    }
   },
   "outputs": [
    {
     "data": {
      "text/plain": [
       "True"
      ]
     },
     "execution_count": 2,
     "metadata": {},
     "output_type": "execute_result"
    }
   ],
   "source": [
    "from retrieva.handler import RagHandler\n",
    "from dotenv import load_dotenv\n",
    "import os\n",
    "from retrieva import ROOT_PATH\n",
    "from retrieva.data import DATA_PATH\n",
    "# used in dev; in production pass the env variable to the containers\n",
    "load_dotenv(os.path.join(ROOT_PATH, \".env\"))"
   ]
  },
  {
   "cell_type": "code",
   "execution_count": 3,
   "id": "7a944f12-3a7e-49e7-a979-0a0da492bf6e",
   "metadata": {
    "execution": {
     "iopub.execute_input": "2024-04-21T17:23:01.122986Z",
     "iopub.status.busy": "2024-04-21T17:23:01.122493Z",
     "iopub.status.idle": "2024-04-21T17:23:01.161072Z",
     "shell.execute_reply": "2024-04-21T17:23:01.160004Z",
     "shell.execute_reply.started": "2024-04-21T17:23:01.122963Z"
    }
   },
   "outputs": [],
   "source": [
    "from IPython.display import Markdown, display, clear_output\n",
    "\n",
    "# define prompt viewing function\n",
    "def display_prompt_dict(prompts_dict):\n",
    "    for k, p in prompts_dict.items():\n",
    "        text_md = f\"**Prompt Key**: {k}<br>\" f\"**Text:** <br>\"\n",
    "        display(Markdown(text_md))\n",
    "        print(p.get_template())\n",
    "        display(Markdown(\"<br><br>\"))"
   ]
  },
  {
   "cell_type": "code",
   "execution_count": 6,
   "id": "d970beb4-8eca-4c15-a374-512253e11469",
   "metadata": {
    "execution": {
     "iopub.execute_input": "2024-04-21T17:23:36.624366Z",
     "iopub.status.busy": "2024-04-21T17:23:36.623993Z",
     "iopub.status.idle": "2024-04-21T17:23:38.884506Z",
     "shell.execute_reply": "2024-04-21T17:23:38.883326Z",
     "shell.execute_reply.started": "2024-04-21T17:23:36.624330Z"
    }
   },
   "outputs": [
    {
     "name": "stderr",
     "output_type": "stream",
     "text": [
      "/home/peterdays/miniconda3/envs/retrieva/lib/python3.10/site-packages/weaviate/warnings.py:121: DeprecationWarning: Dep005: You are using weaviate-client version 3.26.2. The latest version is 4.5.5.\n",
      "            Please consider upgrading to the latest version. See https://weaviate.io/developers/weaviate/client-libraries/python for details.\n",
      "  warnings.warn(\n"
     ]
    },
    {
     "name": "stdout",
     "output_type": "stream",
     "text": [
      "INFO:httpx:HTTP Request: POST https://api.openai.com/v1/embeddings \"HTTP/1.1 200 OK\"\n",
      "HTTP Request: POST https://api.openai.com/v1/embeddings \"HTTP/1.1 200 OK\"\n"
     ]
    }
   ],
   "source": [
    "rag_handler = RagHandler(\n",
    "    index_name=\"SageMakerDocs\",\n",
    "    weaviate_url=os.environ[\"WEAVIATE_URL\"],\n",
    "    data_path=DATA_PATH\n",
    ")"
   ]
  },
  {
   "cell_type": "code",
   "execution_count": 5,
   "id": "46da3d44-f3be-42e9-9f04-0dfe647c4e18",
   "metadata": {
    "execution": {
     "iopub.execute_input": "2024-04-21T17:23:10.486227Z",
     "iopub.status.busy": "2024-04-21T17:23:10.485264Z",
     "iopub.status.idle": "2024-04-21T17:23:14.342466Z",
     "shell.execute_reply": "2024-04-21T17:23:14.340854Z",
     "shell.execute_reply.started": "2024-04-21T17:23:10.486175Z"
    }
   },
   "outputs": [
    {
     "name": "stdout",
     "output_type": "stream",
     "text": [
      "To solve a RL problem using Amazon SageMaker RL, you can follow these steps:\n",
      "\n",
      "1. Formulate the RL problem by defining the components of the Markov Decision Process.\n",
      "2. Define the RL environment, which can be the real world or a simulation.\n",
      "3. Define the presets for the RL training jobs and hyperparameters.\n",
      "4. Write the training code in Python and pass it to a SageMaker training job.\n",
      "5. Train the RL model using the SageMaker `RLEstimator` in the Amazon SageMaker Python SDK.\n",
      "\n",
      "For more detailed information and code examples, you can refer to the sample notebooks at https://github.com/awslabs/amazon-sagemaker-examples/tree/master/reinforcement-learning.\n"
     ]
    }
   ],
   "source": [
    "# testing\n",
    "query = \"how can I solve a RL aws problem with sagemaker?\"\n",
    "# query = \"am I an OVNI?\"\n",
    "resp_stream = rag_handler.user_prompt_streaming(query)\n",
    "sentence = \"\"\n",
    "for text in resp_stream.response_gen:\n",
    "    # return the texts as they arrive.\n",
    "    clear_output()\n",
    "    sentence += text\n",
    "    print(sentence)"
   ]
  },
  {
   "cell_type": "code",
   "execution_count": 20,
   "id": "0c104939-a75c-4fd7-abf3-16070f4ea780",
   "metadata": {
    "execution": {
     "iopub.execute_input": "2024-04-21T15:48:44.048208Z",
     "iopub.status.busy": "2024-04-21T15:48:44.047977Z",
     "iopub.status.idle": "2024-04-21T15:48:44.079343Z",
     "shell.execute_reply": "2024-04-21T15:48:44.078638Z",
     "shell.execute_reply.started": "2024-04-21T15:48:44.048190Z"
    },
    "scrolled": true
   },
   "outputs": [
    {
     "data": {
      "text/markdown": [
       "**Prompt Key**: response_synthesizer:summary_template<br>**Text:** <br>"
      ],
      "text/plain": [
       "<IPython.core.display.Markdown object>"
      ]
     },
     "metadata": {},
     "output_type": "display_data"
    },
    {
     "name": "stdout",
     "output_type": "stream",
     "text": [
      "You are a summarization service to help users navigate documentation of companies.\n",
      "Always provide the filepaths from the nodes' metadata to support the answer as well as further reading that may be mentioned in the docs for the user. Remove '/home/peterdays/Documents/personal/retrieva/artifacts/sagemaker_documentation_small' from the metadatas' filepaths\n",
      "Context information is below.\n",
      "---------------------\n",
      "{context_str}\n",
      "---------------------\n",
      "Given the context information and not prior knowledge, answer the query.\n",
      "Query: {query_str}\n",
      "Answer: \n"
     ]
    },
    {
     "data": {
      "text/markdown": [
       "<br><br>"
      ],
      "text/plain": [
       "<IPython.core.display.Markdown object>"
      ]
     },
     "metadata": {},
     "output_type": "display_data"
    }
   ],
   "source": [
    "prompts_dict = rag_handler.engine.get_prompts()\n",
    "display_prompt_dict(prompts_dict)"
   ]
  }
 ],
 "metadata": {
  "kernelspec": {
   "display_name": "Python 3 (ipykernel)",
   "language": "python",
   "name": "python3"
  },
  "language_info": {
   "codemirror_mode": {
    "name": "ipython",
    "version": 3
   },
   "file_extension": ".py",
   "mimetype": "text/x-python",
   "name": "python",
   "nbconvert_exporter": "python",
   "pygments_lexer": "ipython3",
   "version": "3.10.14"
  }
 },
 "nbformat": 4,
 "nbformat_minor": 5
}
