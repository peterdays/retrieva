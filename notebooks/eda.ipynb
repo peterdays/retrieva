{
 "cells": [
  {
   "cell_type": "code",
   "execution_count": 2,
   "id": "43411f0f-6f74-4c78-ac3f-a74b505fc756",
   "metadata": {
    "execution": {
     "iopub.execute_input": "2024-04-24T10:46:21.376757Z",
     "iopub.status.busy": "2024-04-24T10:46:21.376365Z",
     "iopub.status.idle": "2024-04-24T10:46:21.401730Z",
     "shell.execute_reply": "2024-04-24T10:46:21.400177Z",
     "shell.execute_reply.started": "2024-04-24T10:46:21.376726Z"
    }
   },
   "outputs": [],
   "source": [
    "%load_ext autoreload\n",
    "%autoreload 2"
   ]
  },
  {
   "cell_type": "markdown",
   "id": "7d6ae3c0-5e1c-4d06-9ccb-21e859dba6f9",
   "metadata": {},
   "source": [
    "## Data loading"
   ]
  },
  {
   "cell_type": "code",
   "execution_count": 35,
   "id": "5a123706-73e5-4460-bbbf-35ba32f02517",
   "metadata": {
    "execution": {
     "iopub.execute_input": "2024-04-24T10:57:38.261474Z",
     "iopub.status.busy": "2024-04-24T10:57:38.260113Z",
     "iopub.status.idle": "2024-04-24T10:57:38.315865Z",
     "shell.execute_reply": "2024-04-24T10:57:38.314644Z",
     "shell.execute_reply.started": "2024-04-24T10:57:38.261403Z"
    }
   },
   "outputs": [],
   "source": [
    "from retrieva import ROOT_PATH\n",
    "from retrieva.data import get_file_paths\n",
    "import os\n",
    "import pathlib\n",
    "import re\n",
    "import mistune\n",
    "import pathlib\n",
    "\n",
    "data_path = os.path.join(ROOT_PATH, \"artifacts/sagemaker_documentation\")\n",
    "df = get_file_paths(data_path)"
   ]
  },
  {
   "cell_type": "code",
   "execution_count": 37,
   "id": "acef7f18-191e-4f78-9fa2-e9e5c310bd01",
   "metadata": {
    "execution": {
     "iopub.execute_input": "2024-04-24T10:57:59.248039Z",
     "iopub.status.busy": "2024-04-24T10:57:59.247418Z",
     "iopub.status.idle": "2024-04-24T10:57:59.277510Z",
     "shell.execute_reply": "2024-04-24T10:57:59.276611Z",
     "shell.execute_reply.started": "2024-04-24T10:57:59.247989Z"
    },
    "scrolled": true
   },
   "outputs": [
    {
     "data": {
      "text/plain": [
       "[{'type': 'heading',\n",
       "  'attrs': {'level': 1},\n",
       "  'style': 'axt',\n",
       "  'children': [{'type': 'text',\n",
       "    'raw': 'AWS::SageMaker::ModelBiasJobDefinition NetworkConfig'},\n",
       "   {'type': 'inline_html',\n",
       "    'raw': '<a name=\"aws-properties-sagemaker-modelbiasjobdefinition-networkconfig\">'},\n",
       "   {'type': 'inline_html', 'raw': '</a>'}]},\n",
       " {'type': 'blank_line'},\n",
       " {'type': 'paragraph',\n",
       "  'children': [{'type': 'text',\n",
       "    'raw': 'Networking options for a job, such as network traffic encryption between containers, whether to allow inbound and outbound network calls to and from containers, and the VPC subnets and security groups to use for VPC'},\n",
       "   {'type': 'text', 'raw': '-'},\n",
       "   {'type': 'text', 'raw': 'enabled jobs'},\n",
       "   {'type': 'text', 'raw': '.'}]},\n",
       " {'type': 'blank_line'},\n",
       " {'type': 'heading',\n",
       "  'attrs': {'level': 2},\n",
       "  'style': 'axt',\n",
       "  'children': [{'type': 'text', 'raw': 'Syntax'},\n",
       "   {'type': 'inline_html',\n",
       "    'raw': '<a name=\"aws-properties-sagemaker-modelbiasjobdefinition-networkconfig-syntax\">'},\n",
       "   {'type': 'inline_html', 'raw': '</a>'}]},\n",
       " {'type': 'blank_line'},\n",
       " {'type': 'paragraph',\n",
       "  'children': [{'type': 'text',\n",
       "    'raw': 'To declare this entity in your AWS CloudFormation template, use the following syntax:'}]},\n",
       " {'type': 'blank_line'},\n",
       " {'type': 'heading',\n",
       "  'attrs': {'level': 3},\n",
       "  'style': 'axt',\n",
       "  'children': [{'type': 'text', 'raw': 'JSON'},\n",
       "   {'type': 'inline_html',\n",
       "    'raw': '<a name=\"aws-properties-sagemaker-modelbiasjobdefinition-networkconfig-syntax.json\">'},\n",
       "   {'type': 'inline_html', 'raw': '</a>'}]},\n",
       " {'type': 'blank_line'},\n",
       " {'type': 'block_code',\n",
       "  'raw': '{\\n  \"[EnableInterContainerTrafficEncryption](#cfn-sagemaker-modelbiasjobdefinition-networkconfig-enableintercontainertrafficencryption)\" : Boolean,\\n  \"[EnableNetworkIsolation](#cfn-sagemaker-modelbiasjobdefinition-networkconfig-enablenetworkisolation)\" : Boolean,\\n  \"[VpcConfig](#cfn-sagemaker-modelbiasjobdefinition-networkconfig-vpcconfig)\" : VpcConfig\\n}\\n',\n",
       "  'style': 'fenced',\n",
       "  'marker': '```'},\n",
       " {'type': 'blank_line'},\n",
       " {'type': 'heading',\n",
       "  'attrs': {'level': 3},\n",
       "  'style': 'axt',\n",
       "  'children': [{'type': 'text', 'raw': 'YAML'},\n",
       "   {'type': 'inline_html',\n",
       "    'raw': '<a name=\"aws-properties-sagemaker-modelbiasjobdefinition-networkconfig-syntax.yaml\">'},\n",
       "   {'type': 'inline_html', 'raw': '</a>'}]},\n",
       " {'type': 'blank_line'},\n",
       " {'type': 'block_code',\n",
       "  'raw': '  [EnableInterContainerTrafficEncryption](#cfn-sagemaker-modelbiasjobdefinition-networkconfig-enableintercontainertrafficencryption): Boolean\\n  [EnableNetworkIsolation](#cfn-sagemaker-modelbiasjobdefinition-networkconfig-enablenetworkisolation): Boolean\\n  [VpcConfig](#cfn-sagemaker-modelbiasjobdefinition-networkconfig-vpcconfig): \\n    VpcConfig\\n',\n",
       "  'style': 'fenced',\n",
       "  'marker': '```'},\n",
       " {'type': 'blank_line'},\n",
       " {'type': 'heading',\n",
       "  'attrs': {'level': 2},\n",
       "  'style': 'axt',\n",
       "  'children': [{'type': 'text', 'raw': 'Properties'},\n",
       "   {'type': 'inline_html',\n",
       "    'raw': '<a name=\"aws-properties-sagemaker-modelbiasjobdefinition-networkconfig-properties\">'},\n",
       "   {'type': 'inline_html', 'raw': '</a>'}]},\n",
       " {'type': 'blank_line'},\n",
       " {'type': 'paragraph',\n",
       "  'children': [{'type': 'codespan',\n",
       "    'raw': 'EnableInterContainerTrafficEncryption'},\n",
       "   {'type': 'text', 'raw': '  '},\n",
       "   {'type': 'inline_html',\n",
       "    'raw': '<a name=\"cfn-sagemaker-modelbiasjobdefinition-networkconfig-enableintercontainertrafficencryption\">'},\n",
       "   {'type': 'inline_html', 'raw': '</a>'},\n",
       "   {'type': 'softbreak'},\n",
       "   {'type': 'text',\n",
       "    'raw': 'Whether to encrypt all communications between distributed processing jobs'},\n",
       "   {'type': 'text', 'raw': '.'},\n",
       "   {'type': 'text', 'raw': ' Choose '},\n",
       "   {'type': 'codespan', 'raw': 'True'},\n",
       "   {'type': 'text', 'raw': ' to encrypt communications'},\n",
       "   {'type': 'text', 'raw': '.'},\n",
       "   {'type': 'text',\n",
       "    'raw': ' Encryption provides greater security for distributed processing jobs, but the processing might take longer'},\n",
       "   {'type': 'text', 'raw': '.'},\n",
       "   {'type': 'linebreak'},\n",
       "   {'type': 'emphasis', 'children': [{'type': 'text', 'raw': 'Required'}]},\n",
       "   {'type': 'text', 'raw': ': No'},\n",
       "   {'type': 'linebreak'},\n",
       "   {'type': 'emphasis', 'children': [{'type': 'text', 'raw': 'Type'}]},\n",
       "   {'type': 'text', 'raw': ': Boolean'},\n",
       "   {'type': 'linebreak'},\n",
       "   {'type': 'emphasis',\n",
       "    'children': [{'type': 'text', 'raw': 'Update requires'}]},\n",
       "   {'type': 'text', 'raw': ': '},\n",
       "   {'type': 'link',\n",
       "    'children': [{'type': 'text', 'raw': 'Replacement'}],\n",
       "    'attrs': {'url': 'https://docs.aws.amazon.com/AWSCloudFormation/latest/UserGuide/using-cfn-updating-stacks-update-behaviors.html#update-replacement'}}]},\n",
       " {'type': 'blank_line'},\n",
       " {'type': 'paragraph',\n",
       "  'children': [{'type': 'codespan', 'raw': 'EnableNetworkIsolation'},\n",
       "   {'type': 'text', 'raw': '  '},\n",
       "   {'type': 'inline_html',\n",
       "    'raw': '<a name=\"cfn-sagemaker-modelbiasjobdefinition-networkconfig-enablenetworkisolation\">'},\n",
       "   {'type': 'inline_html', 'raw': '</a>'},\n",
       "   {'type': 'softbreak'},\n",
       "   {'type': 'text',\n",
       "    'raw': 'Whether to allow inbound and outbound network calls to and from the containers used for the processing job'},\n",
       "   {'type': 'text', 'raw': '.'},\n",
       "   {'type': 'linebreak'},\n",
       "   {'type': 'emphasis', 'children': [{'type': 'text', 'raw': 'Required'}]},\n",
       "   {'type': 'text', 'raw': ': No'},\n",
       "   {'type': 'linebreak'},\n",
       "   {'type': 'emphasis', 'children': [{'type': 'text', 'raw': 'Type'}]},\n",
       "   {'type': 'text', 'raw': ': Boolean'},\n",
       "   {'type': 'linebreak'},\n",
       "   {'type': 'emphasis',\n",
       "    'children': [{'type': 'text', 'raw': 'Update requires'}]},\n",
       "   {'type': 'text', 'raw': ': '},\n",
       "   {'type': 'link',\n",
       "    'children': [{'type': 'text', 'raw': 'Replacement'}],\n",
       "    'attrs': {'url': 'https://docs.aws.amazon.com/AWSCloudFormation/latest/UserGuide/using-cfn-updating-stacks-update-behaviors.html#update-replacement'}}]},\n",
       " {'type': 'blank_line'},\n",
       " {'type': 'paragraph',\n",
       "  'children': [{'type': 'codespan', 'raw': 'VpcConfig'},\n",
       "   {'type': 'text', 'raw': '  '},\n",
       "   {'type': 'inline_html',\n",
       "    'raw': '<a name=\"cfn-sagemaker-modelbiasjobdefinition-networkconfig-vpcconfig\">'},\n",
       "   {'type': 'inline_html', 'raw': '</a>'},\n",
       "   {'type': 'softbreak'},\n",
       "   {'type': 'text',\n",
       "    'raw': 'Specifies a VPC that your training jobs and hosted models have access to'},\n",
       "   {'type': 'text', 'raw': '.'},\n",
       "   {'type': 'text',\n",
       "    'raw': ' Control access to and from your training and model containers by configuring the VPC'},\n",
       "   {'type': 'text', 'raw': '.'},\n",
       "   {'type': 'linebreak'},\n",
       "   {'type': 'emphasis', 'children': [{'type': 'text', 'raw': 'Required'}]},\n",
       "   {'type': 'text', 'raw': ': No'},\n",
       "   {'type': 'linebreak'},\n",
       "   {'type': 'emphasis', 'children': [{'type': 'text', 'raw': 'Type'}]},\n",
       "   {'type': 'text', 'raw': ': '},\n",
       "   {'type': 'link',\n",
       "    'children': [{'type': 'text', 'raw': 'VpcConfig'}],\n",
       "    'attrs': {'url': 'aws-properties-sagemaker-modelbiasjobdefinition-vpcconfig.md'}},\n",
       "   {'type': 'linebreak'},\n",
       "   {'type': 'emphasis',\n",
       "    'children': [{'type': 'text', 'raw': 'Update requires'}]},\n",
       "   {'type': 'text', 'raw': ': '},\n",
       "   {'type': 'link',\n",
       "    'children': [{'type': 'text', 'raw': 'Replacement'}],\n",
       "    'attrs': {'url': 'https://docs.aws.amazon.com/AWSCloudFormation/latest/UserGuide/using-cfn-updating-stacks-update-behaviors.html#update-replacement'}}]}]"
      ]
     },
     "execution_count": 37,
     "metadata": {},
     "output_type": "execute_result"
    }
   ],
   "source": [
    "# pip install mistune\n",
    "path = df[\"filepath\"].values[0]\n",
    "text = pathlib.Path(path).read_text(encoding='utf-8')\n",
    "markdown = mistune.create_markdown(renderer=None)\n",
    "markdown(text)"
   ]
  },
  {
   "cell_type": "markdown",
   "id": "31838b59-ec32-42b3-a4ed-d5106f020cc9",
   "metadata": {},
   "source": [
    "## Checking the char distribution of the documentation"
   ]
  },
  {
   "cell_type": "code",
   "execution_count": 3,
   "id": "8b29bc0f-f120-4fff-a770-199ae9142467",
   "metadata": {
    "execution": {
     "iopub.execute_input": "2024-04-19T20:49:08.207439Z",
     "iopub.status.busy": "2024-04-19T20:49:08.207043Z",
     "iopub.status.idle": "2024-04-19T20:49:08.584630Z",
     "shell.execute_reply": "2024-04-19T20:49:08.583892Z",
     "shell.execute_reply.started": "2024-04-19T20:49:08.207413Z"
    }
   },
   "outputs": [],
   "source": [
    "for i, r in df.iterrows():\n",
    "    text = pathlib.Path(r[\"filepath\"]).read_text(encoding='utf-8')\n",
    "    words_len = len(re.findall(r'\\w+', text))\n",
    "    chars_len = len(text)\n",
    "    df.loc[i, [\"words_len\", \"chars_len\"]] = words_len, chars_len"
   ]
  },
  {
   "cell_type": "code",
   "execution_count": 4,
   "id": "0c163806-d30e-443d-8848-20ab3beeb1bd",
   "metadata": {
    "execution": {
     "iopub.execute_input": "2024-04-19T20:49:09.850226Z",
     "iopub.status.busy": "2024-04-19T20:49:09.849488Z",
     "iopub.status.idle": "2024-04-19T20:49:10.604938Z",
     "shell.execute_reply": "2024-04-19T20:49:10.604307Z",
     "shell.execute_reply.started": "2024-04-19T20:49:09.850190Z"
    }
   },
   "outputs": [
    {
     "data": {
      "text/plain": [
       "array([[<AxesSubplot: title={'center': 'words_len'}>,\n",
       "        <AxesSubplot: title={'center': 'chars_len'}>]], dtype=object)"
      ]
     },
     "execution_count": 4,
     "metadata": {},
     "output_type": "execute_result"
    },
    {
     "data": {
      "image/png": "[encoded data removed]",
      "text/plain": [
       "<Figure size 1500x1000 with 2 Axes>"
      ]
     },
     "metadata": {},
     "output_type": "display_data"
    }
   ],
   "source": [
    "df[[\"words_len\", \"chars_len\"]].hist(bins=100, figsize=(15, 10))"
   ]
  },
  {
   "cell_type": "markdown",
   "id": "4fcf995d-109a-4dd9-923e-2424df7df79b",
   "metadata": {},
   "source": [
    "# Extracting tags from filepath"
   ]
  },
  {
   "cell_type": "code",
   "execution_count": 6,
   "id": "36cfbe47-93c2-4cf9-8447-1b201a240148",
   "metadata": {
    "execution": {
     "iopub.execute_input": "2024-04-24T10:46:38.723003Z",
     "iopub.status.busy": "2024-04-24T10:46:38.722164Z",
     "iopub.status.idle": "2024-04-24T10:46:38.748936Z",
     "shell.execute_reply": "2024-04-24T10:46:38.747639Z",
     "shell.execute_reply.started": "2024-04-24T10:46:38.722937Z"
    },
    "scrolled": true
   },
   "outputs": [
    {
     "data": {
      "text/plain": [
       "'/home/peterdays/Documents/personal/retrieva/artifacts/sagemaker_documentation/aws-properties-sagemaker-modelbiasjobdefinition-networkconfig.md'"
      ]
     },
     "execution_count": 6,
     "metadata": {},
     "output_type": "execute_result"
    }
   ],
   "source": [
    "df[\"filepath\"].values[0]"
   ]
  },
  {
   "cell_type": "code",
   "execution_count": 20,
   "id": "586f7112-bb34-4895-a347-2101b4be3a1c",
   "metadata": {
    "execution": {
     "iopub.execute_input": "2024-04-24T10:49:40.065668Z",
     "iopub.status.busy": "2024-04-24T10:49:40.065088Z",
     "iopub.status.idle": "2024-04-24T10:49:40.087406Z",
     "shell.execute_reply": "2024-04-24T10:49:40.086363Z",
     "shell.execute_reply.started": "2024-04-24T10:49:40.065634Z"
    }
   },
   "outputs": [
    {
     "data": {
      "text/plain": [
       "(1, 7)"
      ]
     },
     "execution_count": 20,
     "metadata": {},
     "output_type": "execute_result"
    }
   ],
   "source": [
    "df[\"filename\"].str.split(\"-\").str.len().min(), df[\"filename\"].str.split(\"-\").str.len().max()"
   ]
  },
  {
   "cell_type": "code",
   "execution_count": 13,
   "id": "80012b91-d60b-45fe-85e0-175c4bd7128a",
   "metadata": {
    "execution": {
     "iopub.execute_input": "2024-04-24T10:48:24.981486Z",
     "iopub.status.busy": "2024-04-24T10:48:24.980926Z",
     "iopub.status.idle": "2024-04-24T10:48:25.011021Z",
     "shell.execute_reply": "2024-04-24T10:48:25.009385Z",
     "shell.execute_reply.started": "2024-04-24T10:48:24.981425Z"
    }
   },
   "outputs": [],
   "source": [
    "df[\"section\"] = df[\"filename\"].str.split(\"-\").str[0]"
   ]
  },
  {
   "cell_type": "code",
   "execution_count": 14,
   "id": "2687f924-8738-4fb9-9abb-3b117fc492d7",
   "metadata": {
    "execution": {
     "iopub.execute_input": "2024-04-24T10:48:34.000882Z",
     "iopub.status.busy": "2024-04-24T10:48:33.999894Z",
     "iopub.status.idle": "2024-04-24T10:48:34.036432Z",
     "shell.execute_reply": "2024-04-24T10:48:34.035002Z",
     "shell.execute_reply.started": "2024-04-24T10:48:34.000820Z"
    }
   },
   "outputs": [],
   "source": [
    "df[\"subsection\"] = df[\"filename\"].str.split(\"-\").str[1]"
   ]
  },
  {
   "cell_type": "code",
   "execution_count": 16,
   "id": "1af8c5cd-000e-4137-b073-cc69e0220525",
   "metadata": {
    "execution": {
     "iopub.execute_input": "2024-04-24T10:48:55.624767Z",
     "iopub.status.busy": "2024-04-24T10:48:55.624291Z",
     "iopub.status.idle": "2024-04-24T10:48:55.653121Z",
     "shell.execute_reply": "2024-04-24T10:48:55.651702Z",
     "shell.execute_reply.started": "2024-04-24T10:48:55.624728Z"
    }
   },
   "outputs": [],
   "source": [
    "df[\"topic\"] = df[\"filename\"].str.split(\"-\").str[2]"
   ]
  },
  {
   "cell_type": "code",
   "execution_count": 25,
   "id": "d0191e19-4757-4826-9eec-2473dbfefdc9",
   "metadata": {
    "execution": {
     "iopub.execute_input": "2024-04-24T10:51:20.038162Z",
     "iopub.status.busy": "2024-04-24T10:51:20.037393Z",
     "iopub.status.idle": "2024-04-24T10:51:20.069862Z",
     "shell.execute_reply": "2024-04-24T10:51:20.068341Z",
     "shell.execute_reply.started": "2024-04-24T10:51:20.038083Z"
    }
   },
   "outputs": [],
   "source": [
    "df[\"subtopic\"] = df[\"filename\"].str.split(\"-\").str[3]"
   ]
  },
  {
   "cell_type": "code",
   "execution_count": 26,
   "id": "82e48cb2-15b1-40c5-a429-b739cba7b752",
   "metadata": {
    "execution": {
     "iopub.execute_input": "2024-04-24T10:51:54.065876Z",
     "iopub.status.busy": "2024-04-24T10:51:54.064574Z",
     "iopub.status.idle": "2024-04-24T10:51:54.097551Z",
     "shell.execute_reply": "2024-04-24T10:51:54.096001Z",
     "shell.execute_reply.started": "2024-04-24T10:51:54.065813Z"
    }
   },
   "outputs": [],
   "source": [
    "df[\"subsubtopic\"] = df[\"filename\"].str.split(\"-\").str[4:]\n",
    "df[\"subsubtopic\"] = df[\"subsubtopic\"].apply(lambda x: \"-\".join(x))"
   ]
  },
  {
   "cell_type": "code",
   "execution_count": 32,
   "id": "75468135-e512-40a1-bd9b-ad2fc58eaf30",
   "metadata": {
    "execution": {
     "iopub.execute_input": "2024-04-24T10:53:53.005890Z",
     "iopub.status.busy": "2024-04-24T10:53:53.005430Z",
     "iopub.status.idle": "2024-04-24T10:53:53.041877Z",
     "shell.execute_reply": "2024-04-24T10:53:53.040208Z",
     "shell.execute_reply.started": "2024-04-24T10:53:53.005851Z"
    }
   },
   "outputs": [
    {
     "data": {
      "text/plain": [
       "section     subsection  topic      subtopic                subsubtopic                 \n",
       "automating  sagemaker   with       eventbridge                                             1\n",
       "aws         properties  sagemaker  monitoringschedule      scheduleconfig                  1\n",
       "                                                           networkconfig                   1\n",
       "                                                           monitoringscheduleconfig        1\n",
       "                                                           monitoringresources             1\n",
       "                                                                                          ..\n",
       "                                   modelbiasjobdefinition  monitoringoutputconfig          1\n",
       "                                                           monitoringoutput                1\n",
       "                                                           monitoringgroundtruths3input    1\n",
       "                                                           modelbiasjobinput               1\n",
       "use         sagemaker   edge       manager                                                 1\n",
       "Name: count, Length: 302, dtype: int64"
      ]
     },
     "execution_count": 32,
     "metadata": {},
     "output_type": "execute_result"
    }
   ],
   "source": [
    "df[[\"section\", \"subsection\", \"topic\", \"subtopic\", \"subsubtopic\"]].drop_duplicates().value_counts()"
   ]
  },
  {
   "cell_type": "code",
   "execution_count": null,
   "id": "2d3a8216-8045-43b0-a2da-895eaee45f1d",
   "metadata": {},
   "outputs": [],
   "source": []
  }
 ],
 "metadata": {
  "kernelspec": {
   "display_name": "Python 3 (ipykernel)",
   "language": "python",
   "name": "python3"
  },
  "language_info": {
   "codemirror_mode": {
    "name": "ipython",
    "version": 3
   },
   "file_extension": ".py",
   "mimetype": "text/x-python",
   "name": "python",
   "nbconvert_exporter": "python",
   "pygments_lexer": "ipython3",
   "version": "3.10.14"
  }
 },
 "nbformat": 4,
 "nbformat_minor": 5
}
